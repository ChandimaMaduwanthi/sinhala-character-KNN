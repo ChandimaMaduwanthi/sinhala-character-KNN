{
 "cells": [
  {
   "cell_type": "code",
   "execution_count": 13,
   "metadata": {},
   "outputs": [
    {
     "name": "stdout",
     "output_type": "stream",
     "text": [
      "(270, 64)\n",
      "(270,)\n",
      "(216, 64) (54, 64)\n",
      "(216,) (54,)\n",
      "[1 1 1 0 2 1 3 1 1 1 2 0 0 3 0 3 3 2 1 3 0 0 0 1 3 0 0 3 1 1 2 0 0 2 0 2 0\n",
      " 2 2 0 0 2 2 2 2 1 3 0 0 0 0 3 2 1]\n",
      "[1 1 1 0 2 1 3 1 1 1 0 0 0 1 0 0 3 0 1 3 0 0 0 1 3 1 3 3 1 1 2 0 0 2 2 2 3\n",
      " 0 2 0 2 3 2 2 2 0 3 0 0 0 2 3 2 1]\n",
      "Acccuracy: 0.7592592592592593\n",
      "              precision    recall  f1-score   support\n",
      "\n",
      "           0       0.68      0.72      0.70        18\n",
      "           1       0.92      0.86      0.89        14\n",
      "           2       0.69      0.75      0.72        12\n",
      "           3       0.78      0.70      0.74        10\n",
      "\n",
      "    accuracy                           0.76        54\n",
      "   macro avg       0.77      0.76      0.76        54\n",
      "weighted avg       0.77      0.76      0.76        54\n",
      "\n"
     ]
    },
    {
     "data": {
      "text/plain": [
       "['sinhala-character-KNN.sav']"
      ]
     },
     "execution_count": 13,
     "metadata": {},
     "output_type": "execute_result"
    }
   ],
   "source": [
    "import numpy as np\n",
    "from sklearn.model_selection import train_test_split\n",
    "from sklearn.neighbors import KNeighborsClassifier\n",
    "from sklearn.metrics import accuracy_score,classification_report\n",
    "\n",
    "data=np.load('data.npy')\n",
    "target=np.load('target.npy')\n",
    "\n",
    "print(data.shape)\n",
    "print(target.shape)\n",
    "\n",
    "train_data,test_data,train_target,test_target=train_test_split(data,target,test_size=0.2)\n",
    "\n",
    "print(train_data.shape,test_data.shape)\n",
    "print(train_target.shape,test_target.shape)\n",
    "\n",
    "model=KNeighborsClassifier()\n",
    "model.fit(train_data,train_target)\n",
    "\n",
    "predicted_target=model.predict(test_data)\n",
    "print(predicted_target)\n",
    "print(test_target)\n",
    "\n",
    "accuracy=accuracy_score(test_target,predicted_target)\n",
    "print('Acccuracy:',accuracy)\n",
    "\n",
    "classification_report=classification_report(test_target,predicted_target)\n",
    "print(classification_report)\n",
    "\n",
    "import joblib\n",
    "\n",
    "joblib.dump(model,'sinhala-character-KNN.sav')"
   ]
  },
  {
   "cell_type": "code",
   "execution_count": null,
   "metadata": {},
   "outputs": [],
   "source": []
  }
 ],
 "metadata": {
  "kernelspec": {
   "display_name": "Python 3",
   "language": "python",
   "name": "python3"
  },
  "language_info": {
   "codemirror_mode": {
    "name": "ipython",
    "version": 3
   },
   "file_extension": ".py",
   "mimetype": "text/x-python",
   "name": "python",
   "nbconvert_exporter": "python",
   "pygments_lexer": "ipython3",
   "version": "3.8.5"
  }
 },
 "nbformat": 4,
 "nbformat_minor": 4
}
